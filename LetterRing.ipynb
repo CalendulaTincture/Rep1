{
 "cells": [
  {
   "cell_type": "code",
   "execution_count": 5,
   "metadata": {},
   "outputs": [
    {
     "name": "stdout",
     "output_type": "stream",
     "text": [
      "First letter:t\n",
      "Second letter:d\n",
      "Do you want to add these letters?(y/n)n\n",
      "Do you want to multiply these letters?(y/n)n\n",
      "GO AWAY!\n"
     ]
    }
   ],
   "source": [
    "LR = ['a','b','c','d','e','f','g','h','i','j','k','l','m','n','o','p','q','r','s','t','u','v','w','x','y','z']\n",
    "def addi(a,b):\n",
    "    k = 0\n",
    "    for i in range (len(LR)):\n",
    "        if LR[i] == a:\n",
    "            k += i\n",
    "        if LR[i] == b:\n",
    "            k += i\n",
    "    return LR[k%(len(LR))]\n",
    "def mult(a,b):\n",
    "    c = 1\n",
    "    for i in range (len(LR)):\n",
    "        if LR[i] == a:\n",
    "            c *= i\n",
    "        if LR[i] == b:\n",
    "            c *= i\n",
    "    return LR[c%(len(LR))]\n",
    "l1 = input(\"First letter:\")\n",
    "l2 = input(\"Second letter:\")\n",
    "q1 = input(\"Do you want to add these letters?(y/n)\")\n",
    "if q1 == 'y':\n",
    "    print(mult(l1,l2))\n",
    "else:\n",
    "    q2 = input(\"Do you want to multiply these letters?(y/n)\")\n",
    "    if q2 == 'y':\n",
    "        print(mult(l1,l2))\n",
    "    else:\n",
    "        print(\"GO AWAY!\")"
   ]
  }
 ],
 "metadata": {
  "kernelspec": {
   "display_name": "Python 3",
   "language": "python",
   "name": "python3"
  },
  "language_info": {
   "codemirror_mode": {
    "name": "ipython",
    "version": 3
   },
   "file_extension": ".py",
   "mimetype": "text/x-python",
   "name": "python",
   "nbconvert_exporter": "python",
   "pygments_lexer": "ipython3",
   "version": "3.7.1rc1"
  }
 },
 "nbformat": 4,
 "nbformat_minor": 2
}
