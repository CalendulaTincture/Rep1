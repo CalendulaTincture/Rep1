{
 "cells": [
  {
   "cell_type": "code",
   "execution_count": 28,
   "metadata": {},
   "outputs": [
    {
     "name": "stdout",
     "output_type": "stream",
     "text": [
      "346 140 (2, 17, -42) True\n",
      "226 498 (2, 119, -54) True\n",
      "214 415 (1, 64, -33) True\n",
      "429 48 (3, -1, 9) True\n",
      "410 108 (2, -5, 19) True\n",
      "449 236 (1, 41, -78) True\n",
      "80 251 (1, 91, -29) True\n",
      "230 227 (1, 76, -77) True\n",
      "299 231 (1, 17, -22) True\n",
      "273 218 (1, -107, 134) True\n",
      "15 441 (3, 59, -2) True\n",
      "179 200 (1, 19, -17) True\n",
      "147 79 (1, -36, 67) True\n",
      "80 191 (1, -74, 31) True\n",
      "425 160 (5, -3, 8) True\n",
      "252 187 (1, -23, 31) True\n",
      "261 72 (9, -3, 11) True\n",
      "489 243 (3, 1, -2) True\n",
      "397 179 (1, -78, 173) True\n",
      "127 427 (1, -195, 58) True\n",
      "435 398 (1, -43, 47) True\n",
      "259 249 (1, 25, -26) True\n",
      "109 304 (1, 53, -19) True\n",
      "34 308 (2, -9, 1) True\n",
      "204 406 (2, 2, -1) True\n",
      "175 427 (7, 22, -9) True\n",
      "493 468 (1, -131, 138) True\n",
      "267 420 (3, -11, 7) True\n",
      "80 123 (1, 20, -13) True\n",
      "21 101 (1, -24, 5) True\n",
      "491 416 (1, -61, 72) True\n",
      "96 68 (4, 5, -7) True\n",
      "378 487 (1, -210, 163) True\n",
      "417 192 (3, -29, 63) True\n",
      "103 188 (1, -73, 40) True\n",
      "339 1 (1, 0, 1) True\n",
      "394 285 (1, 34, -47) True\n",
      "88 258 (2, 44, -15) True\n",
      "466 119 (1, -12, 47) True\n",
      "175 410 (5, -7, 3) True\n",
      "113 138 (1, 11, -9) True\n",
      "2 256 (2, 1, 0) True\n"
     ]
    }
   ],
   "source": [
    "import random\n",
    "def gcd(a,b):\n",
    "    c = max(a,b)%min(a,b)\n",
    "    if c == 0:\n",
    "        return min(a,b)\n",
    "    else:\n",
    "        a = min(a,b)\n",
    "        b = c\n",
    "        return gcd(a,b)\n",
    "def bezou(a,b):\n",
    "    if a == 0:\n",
    "        return 0,b//abs(b)\n",
    "    v,t = bezou (b%a,a)\n",
    "    u = t - v*(b//a)\n",
    "    return u,v \n",
    "def extragcd(a,b):\n",
    "    if a == 0:\n",
    "        if b == 0:\n",
    "            return \"undefined\"\n",
    "        return abs(b),0,b//(abs(b))\n",
    "    if b == 0:\n",
    "        return abs(a),a//(abs(a)),0\n",
    "    c,d = bezou(a,b)\n",
    "    return gcd(abs(a),abs(b)), c, d\n",
    "for i in range (42):\n",
    "    a1 = random.randint(1,500)\n",
    "    a2 = random.randint(1,500)\n",
    "    x,y,z = extragcd(a1,a2)\n",
    "    if a1*y + a2*z == x:\n",
    "        print(a1,a2,extragcd(a1,a2),\"True\")\n",
    "    else: print(a1,a2,extragcd(a1,a2),\"False\")\n",
    "    "
   ]
  },
  {
   "cell_type": "code",
   "execution_count": null,
   "metadata": {},
   "outputs": [],
   "source": []
  }
 ],
 "metadata": {
  "kernelspec": {
   "display_name": "Python 3",
   "language": "python",
   "name": "python3"
  },
  "language_info": {
   "codemirror_mode": {
    "name": "ipython",
    "version": 3
   },
   "file_extension": ".py",
   "mimetype": "text/x-python",
   "name": "python",
   "nbconvert_exporter": "python",
   "pygments_lexer": "ipython3",
   "version": "3.7.1rc1"
  }
 },
 "nbformat": 4,
 "nbformat_minor": 2
}
