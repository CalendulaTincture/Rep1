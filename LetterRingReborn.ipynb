{
 "cells": [
  {
   "cell_type": "code",
   "execution_count": 1,
   "metadata": {},
   "outputs": [
    {
     "name": "stdout",
     "output_type": "stream",
     "text": [
      "First letter:3\n",
      "Only angliyskie bukvi! Переменной автоматически присвоено значение a\n",
      "Second letter:q\n",
      "Do you want to add these letters?(y/n)y\n",
      "q\n"
     ]
    }
   ],
   "source": [
    "class letters:\n",
    "    def __init__(self, letter):\n",
    "        LR = ['a','b','c','d','e','f','g','h','i','j','k','l','m','n','o','p','q','r','s','t','u','v','w','x','y','z']\n",
    "        if letter in LR:\n",
    "            self.letter = letter\n",
    "        else: \n",
    "            print(\"Only angliyskie bukvi! Переменной автоматически присвоено значение a\")\n",
    "            self.letter = 'a'    \n",
    "    def __add__(a,b):\n",
    "        k = 0\n",
    "        LR = ['a','b','c','d','e','f','g','h','i','j','k','l','m','n','o','p','q','r','s','t','u','v','w','x','y','z']\n",
    "        for i in range (len(LR)):\n",
    "            if str(LR[i]) == str(a.letter):\n",
    "                k += i\n",
    "            if str(LR[i]) == str(b.letter):\n",
    "                k += i\n",
    "        return LR[k%(len(LR))]   \n",
    "    def __mul__(a,b):\n",
    "        LR = ['a','b','c','d','e','f','g','h','i','j','k','l','m','n','o','p','q','r','s','t','u','v','w','x','y','z']\n",
    "        c = 1\n",
    "        for i in range (len(LR)):\n",
    "            if LR[i] == a.letter:\n",
    "                c *= i\n",
    "            if LR[i] == b.letter:\n",
    "                c *= i\n",
    "        return LR[c%(len(LR))]\n",
    "l1 = letters(input(\"First letter:\"))\n",
    "l2 = letters(input(\"Second letter:\"))\n",
    "q1 = input(\"Do you want to add these letters?(y/n)\")\n",
    "if q1 == 'y':\n",
    "    print(l1+l2)\n",
    "else:\n",
    "    q2 = input(\"Do you want to multiplie these letters?(y/n)\")\n",
    "    if q2 == 'y':\n",
    "        print(l1*l2)\n",
    "    else:\n",
    "        print(\"GO AWAY!\")"
   ]
  }
 ],
 "metadata": {
  "kernelspec": {
   "display_name": "Python 3",
   "language": "python",
   "name": "python3"
  },
  "language_info": {
   "codemirror_mode": {
    "name": "ipython",
    "version": 3
   },
   "file_extension": ".py",
   "mimetype": "text/x-python",
   "name": "python",
   "nbconvert_exporter": "python",
   "pygments_lexer": "ipython3",
   "version": "3.7.1rc1"
  }
 },
 "nbformat": 4,
 "nbformat_minor": 2
}
