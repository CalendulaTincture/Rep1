{
 "cells": [
  {
   "cell_type": "code",
   "execution_count": 2,
   "metadata": {},
   "outputs": [
    {
     "name": "stdout",
     "output_type": "stream",
     "text": [
      "Введите число в десятичной записи:13516984\n",
      "Введите основание системы счисления:34\n",
      "A3UUC\n"
     ]
    }
   ],
   "source": [
    "def str_base(num: 'int', base: 'int') -> 'str':\n",
    "    symbol='0123456789ABCDEFGHIJKLMNOPQRSTUVWXYZ'\n",
    "    new = ''\n",
    "    k = 0\n",
    "    while 1 == 1:\n",
    "        if (num // base**k) == 0:\n",
    "            break\n",
    "        k += 1\n",
    "    for i in range (k-1,0,-1):\n",
    "        new += symbol[num//(base**i)]\n",
    "        num -= (base**i)*(num//(base**i)) \n",
    "    new += symbol[num]\n",
    "    return new\n",
    "a = int(input(\"Введите число в десятичной записи:\"))\n",
    "b = int(input(\"Введите основание системы счисления:\"))\n",
    "print(str_base(a,b))"
   ]
  }
 ],
 "metadata": {
  "kernelspec": {
   "display_name": "Python 3",
   "language": "python",
   "name": "python3"
  },
  "language_info": {
   "codemirror_mode": {
    "name": "ipython",
    "version": 3
   },
   "file_extension": ".py",
   "mimetype": "text/x-python",
   "name": "python",
   "nbconvert_exporter": "python",
   "pygments_lexer": "ipython3",
   "version": "3.7.1rc1"
  }
 },
 "nbformat": 4,
 "nbformat_minor": 2
}
