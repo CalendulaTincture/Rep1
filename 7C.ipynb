{
 "cells": [
  {
   "cell_type": "code",
   "execution_count": 9,
   "metadata": {},
   "outputs": [
    {
     "name": "stdout",
     "output_type": "stream",
     "text": [
      "Введите число в десятичной записи:13516984\n",
      "Введите основание системы счисления:34\n",
      "A3UUC\n"
     ]
    }
   ],
   "source": [
    "A = ['0','1','2','3','4','5','6','7','8','9','A','B','C','D','E','F','G','H','I','J','K','L','M','N','O','P','Q','R','S','T','U','V','W','X','Y','Z']\n",
    "def str_base(num: 'int', base: 'int') -> 'str':\n",
    "    new = ''\n",
    "    k = 0\n",
    "    while 1 == 1:\n",
    "        if (num // base**k) == 0:\n",
    "            break\n",
    "        k += 1\n",
    "    for i in range (k-1,0,-1):\n",
    "        new += A[num//(base**i)]\n",
    "        num -= (base**i)*(num//(base**i)) \n",
    "    new += A[num]\n",
    "    return new\n",
    "a = int(input(\"Введите число в десятичной записи:\"))\n",
    "b = int(input(\"Введите основание системы счисления:\"))\n",
    "print(str_base(a,b))"
   ]
  },
  {
   "cell_type": "code",
   "execution_count": null,
   "metadata": {},
   "outputs": [],
   "source": []
  }
 ],
 "metadata": {
  "kernelspec": {
   "display_name": "Python 3",
   "language": "python",
   "name": "python3"
  }
 },
 "nbformat": 4,
 "nbformat_minor": 2
}
