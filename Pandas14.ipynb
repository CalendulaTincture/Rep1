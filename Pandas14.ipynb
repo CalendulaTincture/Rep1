{
 "cells": [
  {
   "cell_type": "code",
   "execution_count": 11,
   "metadata": {},
   "outputs": [],
   "source": [
    "class mylist:\n",
    "    \n",
    "    def __init__(self, values = []):\n",
    "        self.values = values.copy()\n",
    "        return None\n",
    "    \n",
    "    def __getitem__ (self, a):\n",
    "        return a\n",
    "    \n",
    "    def __str__(self):\n",
    "        s = str(self.values[0])\n",
    "        for i in range(1, len(self.values)):\n",
    "            s += \", \"\n",
    "            s += str(self.values[i])\n",
    "        return s\n",
    "    \n",
    "    def put(self, a):\n",
    "        self.values.append(a)\n",
    "        return None\n",
    "    \n",
    "    def __eq__(self, a):\n",
    "        s = []\n",
    "        for i in self.values:\n",
    "            if (a == i):\n",
    "                s.append(i)\n",
    "        return s\n",
    "        \n",
    "    def __gt__(self, a):\n",
    "        s = []\n",
    "        for i in self.values:\n",
    "            if (i > a):\n",
    "                s.append(i)\n",
    "        return s\n",
    "    \n",
    "    \n",
    "    def __ge__(self, a):\n",
    "        s = []\n",
    "        for i in self.values:\n",
    "            if (i >= a):\n",
    "                s.append(i)\n",
    "        return s\n",
    "    \n",
    "    def __lt__(self, a):\n",
    "        s = []\n",
    "        for i in self.values:\n",
    "            if (i < a):\n",
    "                s.append(i)\n",
    "        return s\n",
    "    \n",
    "    def __le__(self, a):\n",
    "        s = []\n",
    "        for i in self.values:\n",
    "            if (i <= a):\n",
    "                s.append(i)\n",
    "        return s    "
   ]
  },
  {
   "cell_type": "code",
   "execution_count": 12,
   "metadata": {},
   "outputs": [
    {
     "name": "stdout",
     "output_type": "stream",
     "text": [
      "-10, -9, -8, -7, -6, -5, -4, -3, -2, -1, 0, 1, 2, 3, 4, 5, 6, 7, 8, 9\n"
     ]
    }
   ],
   "source": [
    "p = mylist()\n",
    "for i in range(-10, 10):\n",
    "    p.put(i)\n",
    "print(p)"
   ]
  },
  {
   "cell_type": "code",
   "execution_count": 13,
   "metadata": {},
   "outputs": [
    {
     "name": "stdout",
     "output_type": "stream",
     "text": [
      "[4, 5, 6, 7, 8, 9]\n"
     ]
    }
   ],
   "source": [
    "print(p>3)"
   ]
  },
  {
   "cell_type": "code",
   "execution_count": 14,
   "metadata": {},
   "outputs": [
    {
     "name": "stdout",
     "output_type": "stream",
     "text": [
      "[-10, -9, -8, -7, -6, -5, -4, -3]\n"
     ]
    }
   ],
   "source": [
    "print(p<=-3)"
   ]
  },
  {
   "cell_type": "code",
   "execution_count": 15,
   "metadata": {},
   "outputs": [
    {
     "name": "stdout",
     "output_type": "stream",
     "text": [
      "[-4, -3, -2, -1, 0, 1, 2, 3, 4, 5, 6, 7, 8, 9]\n"
     ]
    }
   ],
   "source": [
    "print(p>=-4)"
   ]
  },
  {
   "cell_type": "code",
   "execution_count": 16,
   "metadata": {},
   "outputs": [
    {
     "name": "stdout",
     "output_type": "stream",
     "text": [
      "[-10]\n"
     ]
    }
   ],
   "source": [
    "print(p<-9)"
   ]
  }
 ],
 "metadata": {
  "kernelspec": {
   "display_name": "Python 3",
   "language": "python",
   "name": "python3"
  },
  "language_info": {
   "codemirror_mode": {
    "name": "ipython",
    "version": 3
   },
   "file_extension": ".py",
   "mimetype": "text/x-python",
   "name": "python",
   "nbconvert_exporter": "python",
   "pygments_lexer": "ipython3",
   "version": "3.7.1rc1"
  }
 },
 "nbformat": 4,
 "nbformat_minor": 2
}
