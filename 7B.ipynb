{
 "cells": [
  {
   "cell_type": "code",
   "execution_count": 9,
   "metadata": {},
   "outputs": [
    {
     "name": "stdout",
     "output_type": "stream",
     "text": [
      "Простое ли это число:65768768768\n",
      "False\n"
     ]
    }
   ],
   "source": [
    "import math\n",
    "def itp(a):\n",
    "    if a < 2:\n",
    "        return False\n",
    "    for i in range(2,math.floor(math.sqrt(a))):\n",
    "        if a % i == 0:\n",
    "            return False\n",
    "    return True\n",
    "a = int(input(\"Простое ли это число:\"))\n",
    "print(itp(a))"
   ]
  }
 ],
 "metadata": {
  "kernelspec": {
   "display_name": "Python 3",
   "language": "python",
   "name": "python3"
  },
  "language_info": {
   "codemirror_mode": {
    "name": "ipython",
    "version": 3
   },
   "file_extension": ".py",
   "mimetype": "text/x-python",
   "name": "python",
   "nbconvert_exporter": "python",
   "pygments_lexer": "ipython3",
   "version": "3.7.1rc1"
  }
 },
 "nbformat": 4,
 "nbformat_minor": 2
}
