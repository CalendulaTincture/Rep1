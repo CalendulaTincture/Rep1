{
 "cells": [
  {
   "cell_type": "code",
   "execution_count": 2,
   "metadata": {},
   "outputs": [
    {
     "name": "stdout",
     "output_type": "stream",
     "text": [
      "Первое число:777\n",
      "Второе число:111\n",
      "111\n"
     ]
    }
   ],
   "source": [
    "def my_gcd(a,b):\n",
    "    if a == 0 or b == 0:\n",
    "        return (\"Ну зачем? НОД(0,0) - любое число, НОД (0,x)=x\")\n",
    "    c = max(a,b)%min(a,b)\n",
    "    if c == 0:\n",
    "        return min(a,b)\n",
    "    else:\n",
    "        a = min(a,b)\n",
    "        b = c\n",
    "        return my_gcd(a,b)\n",
    "a = int(input(\"Первое число:\"))\n",
    "b = int(input(\"Второе число:\"))\n",
    "print(my_gcd(abs(a),abs(b)))"
   ]
  },
  {
   "cell_type": "code",
   "execution_count": 12,
   "metadata": {},
   "outputs": [
    {
     "name": "stdout",
     "output_type": "stream",
     "text": [
      "Простое ли это число:101\n",
      "True\n"
     ]
    }
   ],
   "source": [
    "def itp(a):\n",
    "    if a < 2:\n",
    "        return False\n",
    "    for i in range(2,a):\n",
    "        if a % i == 0:\n",
    "            return False\n",
    "    return True\n",
    "a = int(input(\"Простое ли это число:\"))\n",
    "print(itp(a))"
   ]
  }
 ],
 "metadata": {
  "kernelspec": {
   "display_name": "Python 3",
   "language": "python",
   "name": "python3"
  },
  "language_info": {
   "codemirror_mode": {
    "name": "ipython",
    "version": 3
   },
   "file_extension": ".py",
   "mimetype": "text/x-python",
   "name": "python",
   "nbconvert_exporter": "python",
   "pygments_lexer": "ipython3",
   "version": "3.7.1rc1"
  }
 },
 "nbformat": 4,
 "nbformat_minor": 2
}
