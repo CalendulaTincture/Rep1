{
 "cells": [
  {
   "cell_type": "code",
   "execution_count": 5,
   "metadata": {},
   "outputs": [
    {
     "name": "stdout",
     "output_type": "stream",
     "text": [
      "Введите количество повторений:100\n",
      "103\n",
      "5070602400912917605986812821504\n"
     ]
    }
   ],
   "source": [
    "def repeat(n):\n",
    "    def logged(genuine_function):\n",
    "        def fake_function(argument):\n",
    "            result = argument\n",
    "            for i in range(n):\n",
    "                result = genuine_function(result)\n",
    "            return result\n",
    "        return fake_function\n",
    "    return logged\n",
    "a = int(input(\"Введите количество повторений:\"))\n",
    "@repeat(a)\n",
    "def plus_1(x):\n",
    "    return x + 1\n",
    "@repeat(a)\n",
    "def mul_2(x):\n",
    "    return x * 2\n",
    "print(plus_1(3)) #должно выдать 3 + a\n",
    "print(mul_2(4)) #должно выдать 2**(2+a)"
   ]
  }
 ],
 "metadata": {
  "kernelspec": {
   "display_name": "Python 3",
   "language": "python",
   "name": "python3"
  },
  "language_info": {
   "codemirror_mode": {
    "name": "ipython",
    "version": 3
   },
   "file_extension": ".py",
   "mimetype": "text/x-python",
   "name": "python",
   "nbconvert_exporter": "python",
   "pygments_lexer": "ipython3",
   "version": "3.7.1rc1"
  }
 },
 "nbformat": 4,
 "nbformat_minor": 2
}
